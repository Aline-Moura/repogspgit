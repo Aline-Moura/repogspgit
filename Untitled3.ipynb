{
  "nbformat": 4,
  "nbformat_minor": 0,
  "metadata": {
    "colab": {
      "name": "Untitled3.ipynb",
      "provenance": [],
      "authorship_tag": "ABX9TyNNLd0BszC0uauGYSDSciFV"
    },
    "kernelspec": {
      "name": "python3",
      "display_name": "Python 3"
    },
    "language_info": {
      "name": "python"
    }
  },
  "cells": [
    {
      "cell_type": "code",
      "metadata": {
        "colab": {
          "base_uri": "https://localhost:8080/"
        },
        "id": "mkXQIMhmcCPl",
        "outputId": "d6ed9e33-6761-4f23-868a-25147aef9c54"
      },
      "source": [
        "import time\n",
        "time.sleep(0.5)\n",
        "print(\"\\33[34m  Olá, bem vindo(a) a plataforma Calc-Behind-The-Cloud, one você pode efetuar operações mais rápido! \\33[34m \")\n",
        "op = int (input(\"Escolha a sua opção de cálculo:\\n(1) Soma\\n(2) Subtração\\n(3) Divisão\\n(4) Multiplicação\\n\"))\n",
        "time.sleep(0.5)\n",
        "while op>4 or op<1:\n",
        "\tprint(\"\\033[31m \\n\\nOpção inválida! Selecione um das opções validas:\\033[31m \")\n",
        "\top = int (input(\"\\n(1) Soma\\n(2) Subtração\\n(3) Divisão\\n(4) Multiplicação\\n\"))\n",
        "\top = op\n",
        "else:\n",
        "\tif op == 1:\n",
        "\t\tn1 = float(input(\"\\nDigite o primeiro número: \"))\n",
        "\t\tn2 = float(input(\"\\nDigite o segundo número: \"))\n",
        "\t\tsoma = (n1 + n2)\n",
        "\t\tprint(f\"\\nA opção selecionada foi: (1)\\nA soma dos números {n1} + {n2} é igual a:\\n{soma}\")\n",
        "\telif op == 2:\n",
        "\t\tn1 = float(input(\"\\nDigite o primeiro número: \"))\n",
        "\t\tn2 = float(input(\"\\nDigite o segundo número: \"))\n",
        "\t\tsub = (n1 - n2)\n",
        "\t\tprint(f\"\\nA opção selecionada foi: (2)\\nA subtração dos números {n1} - {n2} é igual a:\\n{sub}\")\n",
        "\telif op == 3:\n",
        "\t\tn1 = float(input(\"\\nDigite o primeiro número: \"))\n",
        "\t\tn2 = float(input(\"\\nDigite o segundo número: \"))\n",
        "\t\tdiv = (n1 / n2)\n",
        "\t\tprint(f\"\\nA opção selecionada foi: (3)\\nA divisão dos números {n1} / {n2} é igual a:\\n{div}\")\n",
        "\telif op == 4:\n",
        "\t\tn1 = float(input(\"\\nDigite o primeiro número: \"))\n",
        "\t\tn2 = float(input(\"\\nDigite o segundo número: \"))\n",
        "\t\tmult = (n1 * n2)\n",
        "\t\tprint(f\"\\nA opção selecionada foi: (4)\\nA multiplicação dos números {n1} * {n2} é igual a:\\n{mult}\")\n",
        "print(f\"\\nOperação realizada com sucesso!\")"
      ],
      "execution_count": 2,
      "outputs": [
        {
          "output_type": "stream",
          "text": [
            "\u001b[34m  Olá, bem vindo(a) a plataforma Calc-Behind-The-Cloud, one você pode efetuar operações mais rápido! \u001b[34m \n",
            "Escolha a sua opção de cálculo:\n",
            "(1) Soma\n",
            "(2) Subtração\n",
            "(3) Divisão\n",
            "(4) Multiplicação\n",
            "4\n",
            "\n",
            "Digite o primeiro número: 10\n",
            "\n",
            "Digite o segundo número: 2\n",
            "\n",
            "A opção selecionada foi: (4)\n",
            "A multiplicação dos números 10.0 * 2.0 é igual a:\n",
            "20.0\n",
            "\n",
            "Operação realizada com sucesso!\n"
          ],
          "name": "stdout"
        }
      ]
    }
  ]
}